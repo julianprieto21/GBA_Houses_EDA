{
 "cells": [
  {
   "cell_type": "markdown",
   "metadata": {},
   "source": [
    "# Dataset"
   ]
  },
  {
   "cell_type": "markdown",
   "metadata": {},
   "source": [
    "Utilizando las librerias BeautifulSoup 4, request y csv"
   ]
  },
  {
   "cell_type": "code",
   "execution_count": 6,
   "metadata": {},
   "outputs": [],
   "source": [
    "from bs4 import BeautifulSoup\n",
    "import requests\n",
    "from csv import writer\n",
    "from time import time, sleep\n"
   ]
  },
  {
   "cell_type": "markdown",
   "metadata": {},
   "source": [
    "Data extracted from: [MercadoLibre Argentina](https://inmuebles.mercadolibre.com.ar/casas/venta/#CATEGORY_ID=MLA1468&S=hc_inmuebles&c_id=undefined&c_element_order=undefined&c_campaign=VENTA&c_uid=590c8450-6823-11ed-8220-c18bb10563ed) 19/11/2022\n",
    "\n",
    "\n",
    "Zonas tenidas en cuenta:\n",
    "- Bs.As GBA Norte\n",
    "- Bs.As. GBA Sur\n",
    "- Bs.As. GBA Oeste\n",
    "\n",
    "\n",
    "Variables tenidas en cuenta:\n",
    "- Zona (Zone)\n",
    "- Localidad (Locality)\n",
    "- Metros al cuadrado (Meters squared)\n",
    "- Cant. de ambientes (Number of rooms)\n",
    "- Valor en dolares (Price in dollars)"
   ]
  },
  {
   "cell_type": "code",
   "execution_count": 7,
   "metadata": {},
   "outputs": [],
   "source": [
    "def busqueda_plus(zona, localidades, pags):\n",
    "    for localidad in localidades:\n",
    "        for i in range(1,(48*pags)+1,48):\n",
    "            sleep(3)\n",
    "            url = f\"https://inmuebles.mercadolibre.com.ar/casas/venta/bsas_gba-{zona}/{localidad}/_Desde_{i}_NoIndex_True\"\n",
    "            page = requests.get(url)\n",
    "            soup = BeautifulSoup(page.content, \"html.parser\")\n",
    "            houses = soup.find_all(\"div\", \"ui-search-result__content-wrapper shops__result-content-wrapper\")\n",
    "            for x in houses:\n",
    "                loc = x.find(\"span\", class_=\"ui-search-item__group__element ui-search-item__location shops__items-group-details\").text.split(\",\")[-2].replace(\" \", \"\")\n",
    "                info = x.find(\"ul\", class_=\"ui-search-card-attributes ui-search-item__group__element shops__items-group-details\").text.split()\n",
    "                mt2 = info[0].replace(\",\", \"\")\n",
    "                amb = info[-2][-1]\n",
    "                if amb == \"0\":\n",
    "                    amb = \"10\"\n",
    "                elif amb == \"²\":\n",
    "                    amb = \"0\"\n",
    "                elif amb == \"a\":\n",
    "                    amb = \"0\"\n",
    "                prec = x.find(\"span\", class_=\"price-tag-fraction\").text.replace(\".\", \"\")\n",
    "                row = [zona, loc, mt2, amb, prec]\n",
    "                with open(\"gba_houses__.csv\", \"a\", encoding=\"utf8\", newline=\"\") as f:\n",
    "                    w = writer(f)\n",
    "                    w.writerow(row)\n"
   ]
  },
  {
   "cell_type": "markdown",
   "metadata": {},
   "source": [
    "Cración del dataset con formato .csv"
   ]
  },
  {
   "cell_type": "code",
   "execution_count": 8,
   "metadata": {},
   "outputs": [],
   "source": [
    "with open(\"gba_houses__.csv\", \"w\", encoding=\"utf8\", newline=\"\") as f:\n",
    "    w = writer(f)\n",
    "    header = [\"zona\", \"loc\", \"mtr2\", \"ambs\", \"valor\"]\n",
    "    w.writerow(header)\n",
    "    "
   ]
  },
  {
   "cell_type": "markdown",
   "metadata": {},
   "source": [
    "Relleno del dataset con una seleccion de localidades de cada zona."
   ]
  },
  {
   "cell_type": "code",
   "execution_count": 9,
   "metadata": {},
   "outputs": [
    {
     "name": "stdout",
     "output_type": "stream",
     "text": [
      "Creating Dataset...\n",
      "Dataset Created!\n",
      "Tiempo tardado: 63.19745614528656 minutos.\n"
     ]
    }
   ],
   "source": [
    "norte = [\"pilar\", \"tigre\", \"escobar\", \"san-isidro\", \"san-miguel\", \"vicente-lopez\", \"general-san-martin\", \"malvinas-argentinas\", \"san-fernando\", \"jose-c-paz\"]\n",
    "sur = [\"la-plata\", \"esteban-echeverria\", \"quilmes\", \"lanus\", \"ezeiza\", \"lomas-de-zamora\", \"berazategui\", \"almirante-brown\", \"avellaneda\"]\n",
    "oeste = [\"la-matanza\", \"ituzaingo\", \"moreno\", \"moron\", \"castelar\", \"merlo\", \"hurlingham\", \"tres-de-febrero\"]\n",
    "\n",
    "print(\"Creating Dataset...\")\n",
    "start = time()\n",
    "busqueda_plus(\"Norte\", norte, 22)\n",
    "busqueda_plus(\"Sur\", sur, 26)\n",
    "busqueda_plus(\"Oeste\", oeste, 28)\n",
    "end = time()\n",
    "timer = end - start\n",
    "print(\"Dataset Created!\")\n",
    "print(f\"Tiempo tardado: {timer/60} minutos.\")\n"
   ]
  }
 ],
 "metadata": {
  "kernelspec": {
   "display_name": "Python 3.10.6 64-bit",
   "language": "python",
   "name": "python3"
  },
  "language_info": {
   "codemirror_mode": {
    "name": "ipython",
    "version": 3
   },
   "file_extension": ".py",
   "mimetype": "text/x-python",
   "name": "python",
   "nbconvert_exporter": "python",
   "pygments_lexer": "ipython3",
   "version": "3.10.6"
  },
  "orig_nbformat": 4,
  "vscode": {
   "interpreter": {
    "hash": "9b63f44f2c9679ee32bcaceef0de98283abb63218c7cc52d14aba94f9a82a5c6"
   }
  }
 },
 "nbformat": 4,
 "nbformat_minor": 2
}
